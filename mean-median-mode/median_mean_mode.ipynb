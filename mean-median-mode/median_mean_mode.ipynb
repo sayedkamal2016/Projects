{
 "cells": [
  {
   "cell_type": "code",
   "execution_count": null,
   "metadata": {},
   "outputs": [],
   "source": [
    "# Enter your code here. Read input from STDIN. Print output to STDOUT\n",
    "import statistics\n",
    "\n",
    "\n",
    "def stat(lst): \n",
    "    mean = sum(lst)/len(lst)\n",
    "    median = statistics.median(lst)\n",
    "    dictx = {}\n",
    "    listy = []\n",
    "    listx = {}\n",
    "    if len(lst) < 2000:\n",
    "        mode = min(lst)\n",
    "    elif len(lst) > 2000:\n",
    "        for i in num_list:\n",
    "            if i not in dictx:\n",
    "                dictx[i] = 1\n",
    "            else:\n",
    "                dictx[i] += 1\n",
    "    \n",
    "    for k , v in dictx.items():\n",
    "        if v > 1:\n",
    "            listx[k] = v\n",
    "    for key , value in listx.items():\n",
    "        listy.append(key)\n",
    "        mode = min(listy)           \n",
    "    return mean, median, mode\n",
    "    \n",
    "    \n",
    "    \n",
    "n = int(input())\n",
    "if n >= 10:\n",
    "    x = input()\n",
    "\n",
    "\n",
    "\n",
    "n_split = x.split(' ')\n",
    "num_list = []\n",
    "for num in n_split:\n",
    "    int_num = int(num)\n",
    "    num_list.append(int_num)\n",
    "\n",
    "stats = stat(num_list)\n",
    "y , z , f = stats\n",
    "print(y)\n",
    "print(z)\n",
    "print(f)\n"
   ]
  }
 ],
 "metadata": {
  "kernelspec": {
   "display_name": "Python",
   "language": "python",
   "name": "conda-env-python-py"
  },
  "language_info": {
   "codemirror_mode": {
    "name": "ipython",
    "version": 3
   },
   "file_extension": ".py",
   "mimetype": "text/x-python",
   "name": "python",
   "nbconvert_exporter": "python",
   "pygments_lexer": "ipython3",
   "version": "3.6.7"
  }
 },
 "nbformat": 4,
 "nbformat_minor": 4
}
